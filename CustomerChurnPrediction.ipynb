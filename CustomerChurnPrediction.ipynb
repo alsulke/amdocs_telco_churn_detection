{
  "nbformat": 4,
  "nbformat_minor": 0,
  "metadata": {
    "kernelspec": {
      "display_name": "Python 3",
      "language": "python",
      "name": "python3"
    },
    "language_info": {
      "codemirror_mode": {
        "name": "ipython",
        "version": 3
      },
      "file_extension": ".py",
      "mimetype": "text/x-python",
      "name": "python",
      "nbconvert_exporter": "python",
      "pygments_lexer": "ipython3",
      "version": "3.6.5"
    },
    "colab": {
      "name": "CustomerChurnPrediction.ipynb",
      "provenance": [],
      "collapsed_sections": []
    }
  },
  "cells": [
    {
      "cell_type": "code",
      "metadata": {
        "id": "1oB4Ml2KyHcE",
        "colab_type": "code",
        "outputId": "1c596a58-86dd-4dcd-8e64-617900f5f455",
        "colab": {
          "base_uri": "https://localhost:8080/",
          "height": 120
        }
      },
      "source": [
        "from google.colab import drive\n",
        "drive.mount('/content/drive')"
      ],
      "execution_count": 2,
      "outputs": [
        {
          "output_type": "stream",
          "text": [
            "Go to this URL in a browser: https://accounts.google.com/o/oauth2/auth?client_id=947318989803-6bn6qk8qdgf4n4g3pfee6491hc0brc4i.apps.googleusercontent.com&redirect_uri=urn%3aietf%3awg%3aoauth%3a2.0%3aoob&response_type=code&scope=email%20https%3a%2f%2fwww.googleapis.com%2fauth%2fdocs.test%20https%3a%2f%2fwww.googleapis.com%2fauth%2fdrive%20https%3a%2f%2fwww.googleapis.com%2fauth%2fdrive.photos.readonly%20https%3a%2f%2fwww.googleapis.com%2fauth%2fpeopleapi.readonly\n",
            "\n",
            "Enter your authorization code:\n",
            "··········\n",
            "Mounted at /content/drive\n"
          ],
          "name": "stdout"
        }
      ]
    },
    {
      "cell_type": "code",
      "metadata": {
        "id": "9zZLz0hjx9Hn",
        "colab_type": "code",
        "colab": {
          "base_uri": "https://localhost:8080/",
          "height": 79
        },
        "outputId": "7c1b4ba9-f4cb-412c-8413-7d71f80abbc2"
      },
      "source": [
        "from sklearn.preprocessing import LabelEncoder,OneHotEncoder\n",
        "from keras.wrappers.scikit_learn import KerasClassifier\n",
        "from sklearn.model_selection import train_test_split\n",
        "from sklearn.model_selection import GridSearchCV\n",
        "from sklearn.preprocessing import StandardScaler\n",
        "from sklearn.metrics import confusion_matrix,classification_report\n",
        "from keras.layers import BatchNormalization\n",
        "from keras.models import Sequential\n",
        "from keras.layers import Dropout\n",
        "from keras.layers import Dense\n",
        "import matplotlib.pyplot as plt\n",
        "import seaborn as sns\n",
        "import pandas as pd\n",
        "import numpy as np\n",
        "import collections\n",
        "import warnings\n",
        "warnings.filterwarnings(\"ignore\")"
      ],
      "execution_count": 1,
      "outputs": [
        {
          "output_type": "stream",
          "text": [
            "Using TensorFlow backend.\n"
          ],
          "name": "stderr"
        },
        {
          "output_type": "display_data",
          "data": {
            "text/html": [
              "<p style=\"color: red;\">\n",
              "The default version of TensorFlow in Colab will soon switch to TensorFlow 2.x.<br>\n",
              "We recommend you <a href=\"https://www.tensorflow.org/guide/migrate\" target=\"_blank\">upgrade</a> now \n",
              "or ensure your notebook will continue to use TensorFlow 1.x via the <code>%tensorflow_version 1.x</code> magic:\n",
              "<a href=\"https://colab.research.google.com/notebooks/tensorflow_version.ipynb\" target=\"_blank\">more info</a>.</p>\n"
            ],
            "text/plain": [
              "<IPython.core.display.HTML object>"
            ]
          },
          "metadata": {
            "tags": []
          }
        }
      ]
    },
    {
      "cell_type": "code",
      "metadata": {
        "id": "cODCVb0mx9Hw",
        "colab_type": "code",
        "outputId": "352c018d-8486-4e19-9cd1-16638fa2821f",
        "colab": {
          "base_uri": "https://localhost:8080/",
          "height": 84
        }
      },
      "source": [
        "%cd content/drive\n",
        "!ls\n",
        "\n",
        "#input_filename = \"WA_Fn-UseC_-Telco-Customer-Churn.csv\""
      ],
      "execution_count": 7,
      "outputs": [
        {
          "output_type": "stream",
          "text": [
            "[Errno 2] No such file or directory: 'content/drive'\n",
            "/content\n",
            "drive  sample_data\n"
          ],
          "name": "stdout"
        },
        {
          "output_type": "execute_result",
          "data": {
            "text/plain": [
              "'1.15.0'"
            ]
          },
          "metadata": {
            "tags": []
          },
          "execution_count": 7
        }
      ]
    },
    {
      "cell_type": "code",
      "metadata": {
        "id": "-oAUJO9wcVUn",
        "colab_type": "code",
        "colab": {
          "base_uri": "https://localhost:8080/",
          "height": 50
        },
        "outputId": "b979956a-1697-4c7c-cb00-a8767ded2539"
      },
      "source": [
        "\n",
        "import tensorflow as tf\n",
        "tf.__version__"
      ],
      "execution_count": 4,
      "outputs": [
        {
          "output_type": "stream",
          "text": [
            "TensorFlow is already loaded. Please restart the runtime to change versions.\n"
          ],
          "name": "stdout"
        },
        {
          "output_type": "execute_result",
          "data": {
            "text/plain": [
              "'1.15.0'"
            ]
          },
          "metadata": {
            "tags": []
          },
          "execution_count": 4
        }
      ]
    },
    {
      "cell_type": "code",
      "metadata": {
        "id": "kI7sVFUDYy7Q",
        "colab_type": "code",
        "colab": {
          "base_uri": "https://localhost:8080/",
          "height": 50
        },
        "outputId": "0f7640b8-7496-4fd8-8983-22a34a502cf5"
      },
      "source": [
        "%cd My Drive/content/drive\n",
        "!ls\n"
      ],
      "execution_count": 11,
      "outputs": [
        {
          "output_type": "stream",
          "text": [
            "/content/drive/My Drive/content/drive\n",
            "my_model.h5  pulsar_stars.csv  WA_Fn-UseC_-Telco-Customer-Churn.csv\n"
          ],
          "name": "stdout"
        }
      ]
    },
    {
      "cell_type": "markdown",
      "metadata": {
        "id": "qqehzrFcx9H4",
        "colab_type": "text"
      },
      "source": [
        "#### Loading the data"
      ]
    },
    {
      "cell_type": "code",
      "metadata": {
        "id": "ywlRNLklx9H6",
        "colab_type": "code",
        "colab": {}
      },
      "source": [
        "data = pd.read_csv('WA_Fn-UseC_-Telco-Customer-Churn.csv',sep=',')"
      ],
      "execution_count": 0,
      "outputs": []
    },
    {
      "cell_type": "markdown",
      "metadata": {
        "id": "kcG27BHYx9H-",
        "colab_type": "text"
      },
      "source": [
        "#### Viewing the data"
      ]
    },
    {
      "cell_type": "code",
      "metadata": {
        "id": "XSNHNs8px9H_",
        "colab_type": "code",
        "outputId": "5820ca7f-7789-45d0-d1a5-1989bb248372",
        "colab": {
          "base_uri": "https://localhost:8080/",
          "height": 300
        }
      },
      "source": [
        "data.head()"
      ],
      "execution_count": 13,
      "outputs": [
        {
          "output_type": "execute_result",
          "data": {
            "text/html": [
              "<div>\n",
              "<style scoped>\n",
              "    .dataframe tbody tr th:only-of-type {\n",
              "        vertical-align: middle;\n",
              "    }\n",
              "\n",
              "    .dataframe tbody tr th {\n",
              "        vertical-align: top;\n",
              "    }\n",
              "\n",
              "    .dataframe thead th {\n",
              "        text-align: right;\n",
              "    }\n",
              "</style>\n",
              "<table border=\"1\" class=\"dataframe\">\n",
              "  <thead>\n",
              "    <tr style=\"text-align: right;\">\n",
              "      <th></th>\n",
              "      <th>customerID</th>\n",
              "      <th>gender</th>\n",
              "      <th>SeniorCitizen</th>\n",
              "      <th>Partner</th>\n",
              "      <th>Dependents</th>\n",
              "      <th>tenure</th>\n",
              "      <th>PhoneService</th>\n",
              "      <th>MultipleLines</th>\n",
              "      <th>InternetService</th>\n",
              "      <th>OnlineSecurity</th>\n",
              "      <th>OnlineBackup</th>\n",
              "      <th>DeviceProtection</th>\n",
              "      <th>TechSupport</th>\n",
              "      <th>StreamingTV</th>\n",
              "      <th>StreamingMovies</th>\n",
              "      <th>Contract</th>\n",
              "      <th>PaperlessBilling</th>\n",
              "      <th>PaymentMethod</th>\n",
              "      <th>MonthlyCharges</th>\n",
              "      <th>TotalCharges</th>\n",
              "      <th>Churn</th>\n",
              "    </tr>\n",
              "  </thead>\n",
              "  <tbody>\n",
              "    <tr>\n",
              "      <th>0</th>\n",
              "      <td>7590-VHVEG</td>\n",
              "      <td>Female</td>\n",
              "      <td>0</td>\n",
              "      <td>Yes</td>\n",
              "      <td>No</td>\n",
              "      <td>1</td>\n",
              "      <td>No</td>\n",
              "      <td>No phone service</td>\n",
              "      <td>DSL</td>\n",
              "      <td>No</td>\n",
              "      <td>Yes</td>\n",
              "      <td>No</td>\n",
              "      <td>No</td>\n",
              "      <td>No</td>\n",
              "      <td>No</td>\n",
              "      <td>Month-to-month</td>\n",
              "      <td>Yes</td>\n",
              "      <td>Electronic check</td>\n",
              "      <td>29.85</td>\n",
              "      <td>29.85</td>\n",
              "      <td>No</td>\n",
              "    </tr>\n",
              "    <tr>\n",
              "      <th>1</th>\n",
              "      <td>5575-GNVDE</td>\n",
              "      <td>Male</td>\n",
              "      <td>0</td>\n",
              "      <td>No</td>\n",
              "      <td>No</td>\n",
              "      <td>34</td>\n",
              "      <td>Yes</td>\n",
              "      <td>No</td>\n",
              "      <td>DSL</td>\n",
              "      <td>Yes</td>\n",
              "      <td>No</td>\n",
              "      <td>Yes</td>\n",
              "      <td>No</td>\n",
              "      <td>No</td>\n",
              "      <td>No</td>\n",
              "      <td>One year</td>\n",
              "      <td>No</td>\n",
              "      <td>Mailed check</td>\n",
              "      <td>56.95</td>\n",
              "      <td>1889.5</td>\n",
              "      <td>No</td>\n",
              "    </tr>\n",
              "    <tr>\n",
              "      <th>2</th>\n",
              "      <td>3668-QPYBK</td>\n",
              "      <td>Male</td>\n",
              "      <td>0</td>\n",
              "      <td>No</td>\n",
              "      <td>No</td>\n",
              "      <td>2</td>\n",
              "      <td>Yes</td>\n",
              "      <td>No</td>\n",
              "      <td>DSL</td>\n",
              "      <td>Yes</td>\n",
              "      <td>Yes</td>\n",
              "      <td>No</td>\n",
              "      <td>No</td>\n",
              "      <td>No</td>\n",
              "      <td>No</td>\n",
              "      <td>Month-to-month</td>\n",
              "      <td>Yes</td>\n",
              "      <td>Mailed check</td>\n",
              "      <td>53.85</td>\n",
              "      <td>108.15</td>\n",
              "      <td>Yes</td>\n",
              "    </tr>\n",
              "    <tr>\n",
              "      <th>3</th>\n",
              "      <td>7795-CFOCW</td>\n",
              "      <td>Male</td>\n",
              "      <td>0</td>\n",
              "      <td>No</td>\n",
              "      <td>No</td>\n",
              "      <td>45</td>\n",
              "      <td>No</td>\n",
              "      <td>No phone service</td>\n",
              "      <td>DSL</td>\n",
              "      <td>Yes</td>\n",
              "      <td>No</td>\n",
              "      <td>Yes</td>\n",
              "      <td>Yes</td>\n",
              "      <td>No</td>\n",
              "      <td>No</td>\n",
              "      <td>One year</td>\n",
              "      <td>No</td>\n",
              "      <td>Bank transfer (automatic)</td>\n",
              "      <td>42.30</td>\n",
              "      <td>1840.75</td>\n",
              "      <td>No</td>\n",
              "    </tr>\n",
              "    <tr>\n",
              "      <th>4</th>\n",
              "      <td>9237-HQITU</td>\n",
              "      <td>Female</td>\n",
              "      <td>0</td>\n",
              "      <td>No</td>\n",
              "      <td>No</td>\n",
              "      <td>2</td>\n",
              "      <td>Yes</td>\n",
              "      <td>No</td>\n",
              "      <td>Fiber optic</td>\n",
              "      <td>No</td>\n",
              "      <td>No</td>\n",
              "      <td>No</td>\n",
              "      <td>No</td>\n",
              "      <td>No</td>\n",
              "      <td>No</td>\n",
              "      <td>Month-to-month</td>\n",
              "      <td>Yes</td>\n",
              "      <td>Electronic check</td>\n",
              "      <td>70.70</td>\n",
              "      <td>151.65</td>\n",
              "      <td>Yes</td>\n",
              "    </tr>\n",
              "  </tbody>\n",
              "</table>\n",
              "</div>"
            ],
            "text/plain": [
              "   customerID  gender  SeniorCitizen  ... MonthlyCharges TotalCharges  Churn\n",
              "0  7590-VHVEG  Female              0  ...          29.85        29.85     No\n",
              "1  5575-GNVDE    Male              0  ...          56.95       1889.5     No\n",
              "2  3668-QPYBK    Male              0  ...          53.85       108.15    Yes\n",
              "3  7795-CFOCW    Male              0  ...          42.30      1840.75     No\n",
              "4  9237-HQITU  Female              0  ...          70.70       151.65    Yes\n",
              "\n",
              "[5 rows x 21 columns]"
            ]
          },
          "metadata": {
            "tags": []
          },
          "execution_count": 13
        }
      ]
    },
    {
      "cell_type": "markdown",
      "metadata": {
        "id": "9YAOw_fYx9IE",
        "colab_type": "text"
      },
      "source": [
        "#### Checking the datatype of all the features"
      ]
    },
    {
      "cell_type": "code",
      "metadata": {
        "id": "p7WAjOgsx9IF",
        "colab_type": "code",
        "outputId": "d5dd1146-ee1e-4d86-ca9b-19e674e701de",
        "colab": {
          "base_uri": "https://localhost:8080/",
          "height": 385
        }
      },
      "source": [
        "data.dtypes"
      ],
      "execution_count": 14,
      "outputs": [
        {
          "output_type": "execute_result",
          "data": {
            "text/plain": [
              "customerID           object\n",
              "gender               object\n",
              "SeniorCitizen         int64\n",
              "Partner              object\n",
              "Dependents           object\n",
              "tenure                int64\n",
              "PhoneService         object\n",
              "MultipleLines        object\n",
              "InternetService      object\n",
              "OnlineSecurity       object\n",
              "OnlineBackup         object\n",
              "DeviceProtection     object\n",
              "TechSupport          object\n",
              "StreamingTV          object\n",
              "StreamingMovies      object\n",
              "Contract             object\n",
              "PaperlessBilling     object\n",
              "PaymentMethod        object\n",
              "MonthlyCharges      float64\n",
              "TotalCharges         object\n",
              "Churn                object\n",
              "dtype: object"
            ]
          },
          "metadata": {
            "tags": []
          },
          "execution_count": 14
        }
      ]
    },
    {
      "cell_type": "markdown",
      "metadata": {
        "id": "Tly1q3Bdx9IK",
        "colab_type": "text"
      },
      "source": [
        "#### Changing the datatype of the column from string to float"
      ]
    },
    {
      "cell_type": "code",
      "metadata": {
        "id": "YkGR_jNgx9IL",
        "colab_type": "code",
        "colab": {}
      },
      "source": [
        "data[\"TotalCharges\"] = pd.to_numeric(data[\"TotalCharges\"],errors=\"coerce\")"
      ],
      "execution_count": 0,
      "outputs": []
    },
    {
      "cell_type": "markdown",
      "metadata": {
        "id": "gsOgo-9Jx9IR",
        "colab_type": "text"
      },
      "source": [
        "#### To check the number of null values in the dataset"
      ]
    },
    {
      "cell_type": "code",
      "metadata": {
        "id": "gL6PXTohx9IS",
        "colab_type": "code",
        "outputId": "0b990b13-0d57-428f-fb13-4a68c6082c73",
        "colab": {
          "base_uri": "https://localhost:8080/",
          "height": 385
        }
      },
      "source": [
        "data.isnull().sum()"
      ],
      "execution_count": 16,
      "outputs": [
        {
          "output_type": "execute_result",
          "data": {
            "text/plain": [
              "customerID           0\n",
              "gender               0\n",
              "SeniorCitizen        0\n",
              "Partner              0\n",
              "Dependents           0\n",
              "tenure               0\n",
              "PhoneService         0\n",
              "MultipleLines        0\n",
              "InternetService      0\n",
              "OnlineSecurity       0\n",
              "OnlineBackup         0\n",
              "DeviceProtection     0\n",
              "TechSupport          0\n",
              "StreamingTV          0\n",
              "StreamingMovies      0\n",
              "Contract             0\n",
              "PaperlessBilling     0\n",
              "PaymentMethod        0\n",
              "MonthlyCharges       0\n",
              "TotalCharges        11\n",
              "Churn                0\n",
              "dtype: int64"
            ]
          },
          "metadata": {
            "tags": []
          },
          "execution_count": 16
        }
      ]
    },
    {
      "cell_type": "markdown",
      "metadata": {
        "id": "PHEXNgTVx9IX",
        "colab_type": "text"
      },
      "source": [
        "#### Summary of the data"
      ]
    },
    {
      "cell_type": "code",
      "metadata": {
        "id": "KsgmiFu6x9Ia",
        "colab_type": "code",
        "outputId": "dc8c265f-bf16-4ad1-a122-e56f20af683d",
        "colab": {
          "base_uri": "https://localhost:8080/",
          "height": 203
        }
      },
      "source": [
        "summary = data.describe(include=[\"O\"])\n",
        "summary"
      ],
      "execution_count": 17,
      "outputs": [
        {
          "output_type": "execute_result",
          "data": {
            "text/html": [
              "<div>\n",
              "<style scoped>\n",
              "    .dataframe tbody tr th:only-of-type {\n",
              "        vertical-align: middle;\n",
              "    }\n",
              "\n",
              "    .dataframe tbody tr th {\n",
              "        vertical-align: top;\n",
              "    }\n",
              "\n",
              "    .dataframe thead th {\n",
              "        text-align: right;\n",
              "    }\n",
              "</style>\n",
              "<table border=\"1\" class=\"dataframe\">\n",
              "  <thead>\n",
              "    <tr style=\"text-align: right;\">\n",
              "      <th></th>\n",
              "      <th>customerID</th>\n",
              "      <th>gender</th>\n",
              "      <th>Partner</th>\n",
              "      <th>Dependents</th>\n",
              "      <th>PhoneService</th>\n",
              "      <th>MultipleLines</th>\n",
              "      <th>InternetService</th>\n",
              "      <th>OnlineSecurity</th>\n",
              "      <th>OnlineBackup</th>\n",
              "      <th>DeviceProtection</th>\n",
              "      <th>TechSupport</th>\n",
              "      <th>StreamingTV</th>\n",
              "      <th>StreamingMovies</th>\n",
              "      <th>Contract</th>\n",
              "      <th>PaperlessBilling</th>\n",
              "      <th>PaymentMethod</th>\n",
              "      <th>Churn</th>\n",
              "    </tr>\n",
              "  </thead>\n",
              "  <tbody>\n",
              "    <tr>\n",
              "      <th>count</th>\n",
              "      <td>7043</td>\n",
              "      <td>7043</td>\n",
              "      <td>7043</td>\n",
              "      <td>7043</td>\n",
              "      <td>7043</td>\n",
              "      <td>7043</td>\n",
              "      <td>7043</td>\n",
              "      <td>7043</td>\n",
              "      <td>7043</td>\n",
              "      <td>7043</td>\n",
              "      <td>7043</td>\n",
              "      <td>7043</td>\n",
              "      <td>7043</td>\n",
              "      <td>7043</td>\n",
              "      <td>7043</td>\n",
              "      <td>7043</td>\n",
              "      <td>7043</td>\n",
              "    </tr>\n",
              "    <tr>\n",
              "      <th>unique</th>\n",
              "      <td>7043</td>\n",
              "      <td>2</td>\n",
              "      <td>2</td>\n",
              "      <td>2</td>\n",
              "      <td>2</td>\n",
              "      <td>3</td>\n",
              "      <td>3</td>\n",
              "      <td>3</td>\n",
              "      <td>3</td>\n",
              "      <td>3</td>\n",
              "      <td>3</td>\n",
              "      <td>3</td>\n",
              "      <td>3</td>\n",
              "      <td>3</td>\n",
              "      <td>2</td>\n",
              "      <td>4</td>\n",
              "      <td>2</td>\n",
              "    </tr>\n",
              "    <tr>\n",
              "      <th>top</th>\n",
              "      <td>3217-FZDMN</td>\n",
              "      <td>Male</td>\n",
              "      <td>No</td>\n",
              "      <td>No</td>\n",
              "      <td>Yes</td>\n",
              "      <td>No</td>\n",
              "      <td>Fiber optic</td>\n",
              "      <td>No</td>\n",
              "      <td>No</td>\n",
              "      <td>No</td>\n",
              "      <td>No</td>\n",
              "      <td>No</td>\n",
              "      <td>No</td>\n",
              "      <td>Month-to-month</td>\n",
              "      <td>Yes</td>\n",
              "      <td>Electronic check</td>\n",
              "      <td>No</td>\n",
              "    </tr>\n",
              "    <tr>\n",
              "      <th>freq</th>\n",
              "      <td>1</td>\n",
              "      <td>3555</td>\n",
              "      <td>3641</td>\n",
              "      <td>4933</td>\n",
              "      <td>6361</td>\n",
              "      <td>3390</td>\n",
              "      <td>3096</td>\n",
              "      <td>3498</td>\n",
              "      <td>3088</td>\n",
              "      <td>3095</td>\n",
              "      <td>3473</td>\n",
              "      <td>2810</td>\n",
              "      <td>2785</td>\n",
              "      <td>3875</td>\n",
              "      <td>4171</td>\n",
              "      <td>2365</td>\n",
              "      <td>5174</td>\n",
              "    </tr>\n",
              "  </tbody>\n",
              "</table>\n",
              "</div>"
            ],
            "text/plain": [
              "        customerID gender Partner  ... PaperlessBilling     PaymentMethod Churn\n",
              "count         7043   7043    7043  ...             7043              7043  7043\n",
              "unique        7043      2       2  ...                2                 4     2\n",
              "top     3217-FZDMN   Male      No  ...              Yes  Electronic check    No\n",
              "freq             1   3555    3641  ...             4171              2365  5174\n",
              "\n",
              "[4 rows x 17 columns]"
            ]
          },
          "metadata": {
            "tags": []
          },
          "execution_count": 17
        }
      ]
    },
    {
      "cell_type": "markdown",
      "metadata": {
        "id": "2SCtH928x9Ih",
        "colab_type": "text"
      },
      "source": [
        "#### From the summary table,it is clear that the following features are categorical:"
      ]
    },
    {
      "cell_type": "code",
      "metadata": {
        "id": "5bApdD4Jx9Il",
        "colab_type": "code",
        "colab": {}
      },
      "source": [
        "data.dropna(how=\"any\",inplace=True)"
      ],
      "execution_count": 0,
      "outputs": []
    },
    {
      "cell_type": "markdown",
      "metadata": {
        "id": "T3qzgdw-x9Iq",
        "colab_type": "text"
      },
      "source": [
        "####  Rechecking for any null values in the dataset"
      ]
    },
    {
      "cell_type": "code",
      "metadata": {
        "id": "2QtvoUULx9Ir",
        "colab_type": "code",
        "outputId": "c6148a14-d4ed-4949-b5b9-fee703e45c3e",
        "colab": {
          "base_uri": "https://localhost:8080/",
          "height": 385
        }
      },
      "source": [
        "data.isnull().sum()"
      ],
      "execution_count": 19,
      "outputs": [
        {
          "output_type": "execute_result",
          "data": {
            "text/plain": [
              "customerID          0\n",
              "gender              0\n",
              "SeniorCitizen       0\n",
              "Partner             0\n",
              "Dependents          0\n",
              "tenure              0\n",
              "PhoneService        0\n",
              "MultipleLines       0\n",
              "InternetService     0\n",
              "OnlineSecurity      0\n",
              "OnlineBackup        0\n",
              "DeviceProtection    0\n",
              "TechSupport         0\n",
              "StreamingTV         0\n",
              "StreamingMovies     0\n",
              "Contract            0\n",
              "PaperlessBilling    0\n",
              "PaymentMethod       0\n",
              "MonthlyCharges      0\n",
              "TotalCharges        0\n",
              "Churn               0\n",
              "dtype: int64"
            ]
          },
          "metadata": {
            "tags": []
          },
          "execution_count": 19
        }
      ]
    },
    {
      "cell_type": "markdown",
      "metadata": {
        "id": "8_66FR-yx9Iv",
        "colab_type": "text"
      },
      "source": [
        "#### Splitting Continuous And Categorical Variables"
      ]
    },
    {
      "cell_type": "code",
      "metadata": {
        "id": "yWL-d3h6x9Iw",
        "colab_type": "code",
        "colab": {}
      },
      "source": [
        "data_cont = ['tenure','MonthlyCharges', 'TotalCharges']\n",
        "data_cat = ['gender', 'SeniorCitizen', 'Partner', 'Dependents',\n",
        "            'PhoneService', 'MultipleLines', 'InternetService',\n",
        "            'OnlineSecurity', 'OnlineBackup', 'DeviceProtection',\n",
        "            'TechSupport','StreamingTV','StreamingMovies',\n",
        "            'Contract', 'PaperlessBilling','PaymentMethod']"
      ],
      "execution_count": 0,
      "outputs": []
    },
    {
      "cell_type": "markdown",
      "metadata": {
        "id": "3JcdnCYfx9I2",
        "colab_type": "text"
      },
      "source": [
        "#### Plotting Distribution Of The Data"
      ]
    },
    {
      "cell_type": "code",
      "metadata": {
        "id": "uub3fSslx9I4",
        "colab_type": "code",
        "outputId": "55b2b265-29e8-415d-f5f9-d60ba9949ea7",
        "colab": {
          "base_uri": "https://localhost:8080/",
          "height": 385
        }
      },
      "source": [
        "sns.catplot(x=\"Churn\", kind=\"count\", data=data,orient='h')"
      ],
      "execution_count": 21,
      "outputs": [
        {
          "output_type": "execute_result",
          "data": {
            "text/plain": [
              "<seaborn.axisgrid.FacetGrid at 0x7f327e3297b8>"
            ]
          },
          "metadata": {
            "tags": []
          },
          "execution_count": 21
        },
        {
          "output_type": "display_data",
          "data": {
            "image/png": "[encoded data removed]",
            "text/plain": [
              "<Figure size 360x360 with 1 Axes>"
            ]
          },
          "metadata": {
            "tags": []
          }
        }
      ]
    },
    {
      "cell_type": "markdown",
      "metadata": {
        "id": "ZYy8BQzox9JP",
        "colab_type": "text"
      },
      "source": [
        "#### Vizualizing the Numeric variables"
      ]
    },
    {
      "cell_type": "code",
      "metadata": {
        "id": "sLPuYveyx9JR",
        "colab_type": "code",
        "outputId": "da6592bf-e484-4d07-c7ba-a8b5e693c2fe",
        "colab": {
          "base_uri": "https://localhost:8080/",
          "height": 350
        }
      },
      "source": [
        "fig,ax = plt.subplots(1,3,figsize=(15,5))\n",
        "\n",
        "sns.distplot(data[\"tenure\"],bins=10,kde=False,color=\"red\",ax=ax[0])\n",
        "sns.distplot(data[\"TotalCharges\"],bins=10,kde=False,color=\"purple\",ax=ax[2])\n",
        "sns.distplot(data[\"MonthlyCharges\"],bins=10,kde=False,color=\"green\",ax=ax[1])"
      ],
      "execution_count": 22,
      "outputs": [
        {
          "output_type": "execute_result",
          "data": {
            "text/plain": [
              "<matplotlib.axes._subplots.AxesSubplot at 0x7f327ba5e860>"
            ]
          },
          "metadata": {
            "tags": []
          },
          "execution_count": 22
        },
        {
          "output_type": "display_data",
          "data": {
            "image/png": "[encoded data removed]",
            "text/plain": [
              "<Figure size 1080x360 with 3 Axes>"
            ]
          },
          "metadata": {
            "tags": []
          }
        }
      ]
    },
    {
      "cell_type": "markdown",
      "metadata": {
        "id": "dmqtZj7lx9JY",
        "colab_type": "text"
      },
      "source": [
        "#### Correlation between churn and numerical variables"
      ]
    },
    {
      "cell_type": "code",
      "metadata": {
        "id": "tIHXV8umx9JZ",
        "colab_type": "code",
        "outputId": "180f7fcb-920e-4689-c578-fc29ff1ae4d1",
        "colab": {
          "base_uri": "https://localhost:8080/",
          "height": 441
        }
      },
      "source": [
        "NumHistTenure = sns.FacetGrid(data,col=\"Churn\",height=6,aspect=1)\n",
        "NumHistTenure = NumHistTenure.map(plt.hist, \"tenure\",bins=20,color=\"orange\")"
      ],
      "execution_count": 23,
      "outputs": [
        {
          "output_type": "display_data",
          "data": {
            "image/png": "[encoded data removed]",
            "text/plain": [
              "<Figure size 864x432 with 2 Axes>"
            ]
          },
          "metadata": {
            "tags": []
          }
        }
      ]
    },
    {
      "cell_type": "code",
      "metadata": {
        "id": "yKrk2HLWx9Je",
        "colab_type": "code",
        "outputId": "9ab69361-3848-4cc0-9e86-85c450d1b3ee",
        "colab": {
          "base_uri": "https://localhost:8080/",
          "height": 441
        }
      },
      "source": [
        "NumHistMC = sns.FacetGrid(data,col=\"Churn\",height=6,aspect=1)\n",
        "NumHistMC = NumHistMC.map(plt.hist, \"MonthlyCharges\",bins=20,color=\"purple\")"
      ],
      "execution_count": 24,
      "outputs": [
        {
          "output_type": "display_data",
          "data": {
            "image/png": "[encoded data removed]",
            "text/plain": [
              "<Figure size 864x432 with 2 Axes>"
            ]
          },
          "metadata": {
            "tags": []
          }
        }
      ]
    },
    {
      "cell_type": "code",
      "metadata": {
        "id": "5mDraDiDx9Ji",
        "colab_type": "code",
        "colab": {}
      },
      "source": [
        ""
      ],
      "execution_count": 0,
      "outputs": []
    },
    {
      "cell_type": "markdown",
      "metadata": {
        "id": "OmJ1pF56x9Jn",
        "colab_type": "text"
      },
      "source": [
        "#### Instantiating a scalar and scaling the data."
      ]
    },
    {
      "cell_type": "code",
      "metadata": {
        "id": "lH7bel5Fx9Jo",
        "colab_type": "code",
        "colab": {}
      },
      "source": [
        "scaler = StandardScaler()\n",
        "data_continuous = scaler.fit_transform(data[data_cont])"
      ],
      "execution_count": 0,
      "outputs": []
    },
    {
      "cell_type": "markdown",
      "metadata": {
        "id": "2VVEvM8px9Jt",
        "colab_type": "text"
      },
      "source": [
        "#### Instantiating an encoder and encoding the data."
      ]
    },
    {
      "cell_type": "code",
      "metadata": {
        "id": "kAUnAoKqx9Ju",
        "colab_type": "code",
        "colab": {}
      },
      "source": [
        "for cols in data_cat:\n",
        "    data.loc[:,cols] = LabelEncoder().fit_transform(data.loc[:,cols])\n",
        "\n",
        "onehotencoder = OneHotEncoder(sparse=False)\n",
        "data_categorical = onehotencoder.fit_transform(data[data_cat])"
      ],
      "execution_count": 0,
      "outputs": []
    },
    {
      "cell_type": "markdown",
      "metadata": {
        "id": "VGrCTl6Px9Jy",
        "colab_type": "text"
      },
      "source": [
        "#### Concatenate Processed Continuous And Categorical Columns Back Together"
      ]
    },
    {
      "cell_type": "code",
      "metadata": {
        "id": "yq6-tUlGx9Jz",
        "colab_type": "code",
        "colab": {}
      },
      "source": [
        "features = np.concatenate([data_continuous, data_categorical], axis=1)\n",
        "\n",
        "target = data.iloc[:,20:].values\n",
        "target = LabelEncoder().fit_transform(target)"
      ],
      "execution_count": 0,
      "outputs": []
    },
    {
      "cell_type": "code",
      "metadata": {
        "id": "YEUz7rJD3ZhV",
        "colab_type": "code",
        "colab": {}
      },
      "source": [
        ""
      ],
      "execution_count": 0,
      "outputs": []
    },
    {
      "cell_type": "markdown",
      "metadata": {
        "id": "-p8Zu3npx9J3",
        "colab_type": "text"
      },
      "source": [
        "#### Splitting data to test and train"
      ]
    },
    {
      "cell_type": "code",
      "metadata": {
        "id": "RZ4vaFX5x9J4",
        "colab_type": "code",
        "colab": {}
      },
      "source": [
        "X_train, X_test, y_train, y_test = train_test_split(features, target, test_size = 0.2, random_state = 0)"
      ],
      "execution_count": 0,
      "outputs": []
    },
    {
      "cell_type": "markdown",
      "metadata": {
        "id": "Jxdqfu68x9J-",
        "colab_type": "text"
      },
      "source": [
        "### Building a sequential model"
      ]
    },
    {
      "cell_type": "code",
      "metadata": {
        "id": "jEbx_duDx9J_",
        "colab_type": "code",
        "outputId": "fcf96144-dd8e-4160-ecdc-ea2de5166bbe",
        "colab": {
          "base_uri": "https://localhost:8080/",
          "height": 338
        }
      },
      "source": [
        "classifier = Sequential()\n",
        "classifier.add(Dense(units=6,kernel_initializer=\"uniform\",activation=\"relu\",input_shape=(46,)))\n",
        "classifier.add(BatchNormalization(axis=-1, momentum=0.99, epsilon=0.001, center=True, scale=True))\n",
        "classifier.add(Dense(units=6,kernel_initializer=\"uniform\",activation=\"relu\"))\n",
        "classifier.add(BatchNormalization(axis=-1, momentum=0.99, epsilon=0.001, center=True, scale=True))\n",
        "classifier.add(Dense(units=6,kernel_initializer=\"uniform\",activation=\"relu\"))\n",
        "classifier.add(BatchNormalization(axis=-1, momentum=0.99, epsilon=0.001, center=True, scale=True))\n",
        "classifier.add(Dropout(0.2))\n",
        "classifier.add(Dense(units=1,kernel_initializer=\"uniform\",activation=\"sigmoid\"))\n",
        "classifier.compile(optimizer = 'adam', loss = 'binary_crossentropy', metrics = ['accuracy'])"
      ],
      "execution_count": 29,
      "outputs": [
        {
          "output_type": "stream",
          "text": [
            "WARNING:tensorflow:From /usr/local/lib/python3.6/dist-packages/keras/backend/tensorflow_backend.py:66: The name tf.get_default_graph is deprecated. Please use tf.compat.v1.get_default_graph instead.\n",
            "\n",
            "WARNING:tensorflow:From /usr/local/lib/python3.6/dist-packages/keras/backend/tensorflow_backend.py:541: The name tf.placeholder is deprecated. Please use tf.compat.v1.placeholder instead.\n",
            "\n",
            "WARNING:tensorflow:From /usr/local/lib/python3.6/dist-packages/keras/backend/tensorflow_backend.py:4432: The name tf.random_uniform is deprecated. Please use tf.random.uniform instead.\n",
            "\n",
            "WARNING:tensorflow:From /usr/local/lib/python3.6/dist-packages/keras/backend/tensorflow_backend.py:148: The name tf.placeholder_with_default is deprecated. Please use tf.compat.v1.placeholder_with_default instead.\n",
            "\n",
            "WARNING:tensorflow:From /usr/local/lib/python3.6/dist-packages/keras/backend/tensorflow_backend.py:3733: calling dropout (from tensorflow.python.ops.nn_ops) with keep_prob is deprecated and will be removed in a future version.\n",
            "Instructions for updating:\n",
            "Please use `rate` instead of `keep_prob`. Rate should be set to `rate = 1 - keep_prob`.\n",
            "WARNING:tensorflow:From /usr/local/lib/python3.6/dist-packages/keras/optimizers.py:793: The name tf.train.Optimizer is deprecated. Please use tf.compat.v1.train.Optimizer instead.\n",
            "\n",
            "WARNING:tensorflow:From /usr/local/lib/python3.6/dist-packages/keras/backend/tensorflow_backend.py:3657: The name tf.log is deprecated. Please use tf.math.log instead.\n",
            "\n",
            "WARNING:tensorflow:From /usr/local/lib/python3.6/dist-packages/tensorflow_core/python/ops/nn_impl.py:183: where (from tensorflow.python.ops.array_ops) is deprecated and will be removed in a future version.\n",
            "Instructions for updating:\n",
            "Use tf.where in 2.0, which has the same broadcast rule as np.where\n"
          ],
          "name": "stdout"
        }
      ]
    },
    {
      "cell_type": "markdown",
      "metadata": {
        "id": "quHR-87Jx9KD",
        "colab_type": "text"
      },
      "source": [
        "#### Training the classifier"
      ]
    },
    {
      "cell_type": "code",
      "metadata": {
        "id": "KGgUEIlRx9KE",
        "colab_type": "code",
        "outputId": "e01df6bd-3f46-464c-b791-1673fd6c4d76",
        "colab": {
          "base_uri": "https://localhost:8080/",
          "height": 1000
        }
      },
      "source": [
        "classifier.fit(X_train, y_train, batch_size = 150, nb_epoch = 150)"
      ],
      "execution_count": 30,
      "outputs": [
        {
          "output_type": "stream",
          "text": [
            "WARNING:tensorflow:From /usr/local/lib/python3.6/dist-packages/keras/backend/tensorflow_backend.py:1033: The name tf.assign_add is deprecated. Please use tf.compat.v1.assign_add instead.\n",
            "\n",
            "WARNING:tensorflow:From /usr/local/lib/python3.6/dist-packages/keras/backend/tensorflow_backend.py:1020: The name tf.assign is deprecated. Please use tf.compat.v1.assign instead.\n",
            "\n",
            "WARNING:tensorflow:From /usr/local/lib/python3.6/dist-packages/keras/backend/tensorflow_backend.py:3005: The name tf.Session is deprecated. Please use tf.compat.v1.Session instead.\n",
            "\n",
            "Epoch 1/150\n",
            "WARNING:tensorflow:From /usr/local/lib/python3.6/dist-packages/keras/backend/tensorflow_backend.py:190: The name tf.get_default_session is deprecated. Please use tf.compat.v1.get_default_session instead.\n",
            "\n",
            "WARNING:tensorflow:From /usr/local/lib/python3.6/dist-packages/keras/backend/tensorflow_backend.py:197: The name tf.ConfigProto is deprecated. Please use tf.compat.v1.ConfigProto instead.\n",
            "\n",
            "WARNING:tensorflow:From /usr/local/lib/python3.6/dist-packages/keras/backend/tensorflow_backend.py:207: The name tf.global_variables is deprecated. Please use tf.compat.v1.global_variables instead.\n",
            "\n",
            "WARNING:tensorflow:From /usr/local/lib/python3.6/dist-packages/keras/backend/tensorflow_backend.py:216: The name tf.is_variable_initialized is deprecated. Please use tf.compat.v1.is_variable_initialized instead.\n",
            "\n",
            "WARNING:tensorflow:From /usr/local/lib/python3.6/dist-packages/keras/backend/tensorflow_backend.py:223: The name tf.variables_initializer is deprecated. Please use tf.compat.v1.variables_initializer instead.\n",
            "\n",
            "5625/5625 [==============================] - 1s 220us/step - loss: 0.6533 - acc: 0.7157\n",
            "Epoch 2/150\n",
            "5625/5625 [==============================] - 0s 16us/step - loss: 0.5860 - acc: 0.7595\n",
            "Epoch 3/150\n",
            "5625/5625 [==============================] - 0s 16us/step - loss: 0.5482 - acc: 0.7628\n",
            "Epoch 4/150\n",
            "5625/5625 [==============================] - 0s 16us/step - loss: 0.5203 - acc: 0.7694\n",
            "Epoch 5/150\n",
            "5625/5625 [==============================] - 0s 21us/step - loss: 0.5030 - acc: 0.7776\n",
            "Epoch 6/150\n",
            "5625/5625 [==============================] - 0s 16us/step - loss: 0.4885 - acc: 0.7861\n",
            "Epoch 7/150\n",
            "5625/5625 [==============================] - 0s 16us/step - loss: 0.4716 - acc: 0.7876\n",
            "Epoch 8/150\n",
            "5625/5625 [==============================] - 0s 17us/step - loss: 0.4618 - acc: 0.7936\n",
            "Epoch 9/150\n",
            "5625/5625 [==============================] - 0s 16us/step - loss: 0.4575 - acc: 0.7890\n",
            "Epoch 10/150\n",
            "5625/5625 [==============================] - 0s 16us/step - loss: 0.4419 - acc: 0.7980\n",
            "Epoch 11/150\n",
            "5625/5625 [==============================] - 0s 16us/step - loss: 0.4407 - acc: 0.8000\n",
            "Epoch 12/150\n",
            "5625/5625 [==============================] - 0s 17us/step - loss: 0.4347 - acc: 0.8014\n",
            "Epoch 13/150\n",
            "5625/5625 [==============================] - 0s 16us/step - loss: 0.4289 - acc: 0.8007\n",
            "Epoch 14/150\n",
            "5625/5625 [==============================] - 0s 16us/step - loss: 0.4265 - acc: 0.8044\n",
            "Epoch 15/150\n",
            "5625/5625 [==============================] - 0s 16us/step - loss: 0.4254 - acc: 0.8039\n",
            "Epoch 16/150\n",
            "5625/5625 [==============================] - 0s 16us/step - loss: 0.4218 - acc: 0.8055\n",
            "Epoch 17/150\n",
            "5625/5625 [==============================] - 0s 16us/step - loss: 0.4173 - acc: 0.8057\n",
            "Epoch 18/150\n",
            "5625/5625 [==============================] - 0s 16us/step - loss: 0.4146 - acc: 0.8037\n",
            "Epoch 19/150\n",
            "5625/5625 [==============================] - 0s 16us/step - loss: 0.4154 - acc: 0.8071\n",
            "Epoch 20/150\n",
            "5625/5625 [==============================] - 0s 15us/step - loss: 0.4106 - acc: 0.8075\n",
            "Epoch 21/150\n",
            "5625/5625 [==============================] - 0s 15us/step - loss: 0.4144 - acc: 0.8028\n",
            "Epoch 22/150\n",
            "5625/5625 [==============================] - 0s 17us/step - loss: 0.4132 - acc: 0.8039\n",
            "Epoch 23/150\n",
            "5625/5625 [==============================] - 0s 15us/step - loss: 0.4141 - acc: 0.8036\n",
            "Epoch 24/150\n",
            "5625/5625 [==============================] - 0s 15us/step - loss: 0.4133 - acc: 0.8062\n",
            "Epoch 25/150\n",
            "5625/5625 [==============================] - 0s 16us/step - loss: 0.4116 - acc: 0.8036\n",
            "Epoch 26/150\n",
            "5625/5625 [==============================] - 0s 17us/step - loss: 0.4129 - acc: 0.8073\n",
            "Epoch 27/150\n",
            "5625/5625 [==============================] - 0s 16us/step - loss: 0.4150 - acc: 0.8064\n",
            "Epoch 28/150\n",
            "5625/5625 [==============================] - 0s 16us/step - loss: 0.4122 - acc: 0.8069\n",
            "Epoch 29/150\n",
            "5625/5625 [==============================] - 0s 16us/step - loss: 0.4102 - acc: 0.8027\n",
            "Epoch 30/150\n",
            "5625/5625 [==============================] - 0s 18us/step - loss: 0.4104 - acc: 0.8050\n",
            "Epoch 31/150\n",
            "5625/5625 [==============================] - 0s 17us/step - loss: 0.4085 - acc: 0.8062\n",
            "Epoch 32/150\n",
            "5625/5625 [==============================] - 0s 16us/step - loss: 0.4109 - acc: 0.8057\n",
            "Epoch 33/150\n",
            "5625/5625 [==============================] - 0s 15us/step - loss: 0.4109 - acc: 0.8060\n",
            "Epoch 34/150\n",
            "5625/5625 [==============================] - 0s 16us/step - loss: 0.4073 - acc: 0.8068\n",
            "Epoch 35/150\n",
            "5625/5625 [==============================] - 0s 16us/step - loss: 0.4055 - acc: 0.8050\n",
            "Epoch 36/150\n",
            "5625/5625 [==============================] - 0s 15us/step - loss: 0.4085 - acc: 0.8059\n",
            "Epoch 37/150\n",
            "5625/5625 [==============================] - 0s 16us/step - loss: 0.4088 - acc: 0.8021\n",
            "Epoch 38/150\n",
            "5625/5625 [==============================] - 0s 16us/step - loss: 0.4086 - acc: 0.8062\n",
            "Epoch 39/150\n",
            "5625/5625 [==============================] - 0s 16us/step - loss: 0.4060 - acc: 0.8041\n",
            "Epoch 40/150\n",
            "5625/5625 [==============================] - 0s 15us/step - loss: 0.4065 - acc: 0.8060\n",
            "Epoch 41/150\n",
            "5625/5625 [==============================] - 0s 15us/step - loss: 0.4082 - acc: 0.8064\n",
            "Epoch 42/150\n",
            "5625/5625 [==============================] - 0s 15us/step - loss: 0.4078 - acc: 0.8076\n",
            "Epoch 43/150\n",
            "5625/5625 [==============================] - 0s 15us/step - loss: 0.4056 - acc: 0.8068\n",
            "Epoch 44/150\n",
            "5625/5625 [==============================] - 0s 17us/step - loss: 0.4082 - acc: 0.8084\n",
            "Epoch 45/150\n",
            "5625/5625 [==============================] - 0s 16us/step - loss: 0.4067 - acc: 0.8064\n",
            "Epoch 46/150\n",
            "5625/5625 [==============================] - 0s 15us/step - loss: 0.4069 - acc: 0.8062\n",
            "Epoch 47/150\n",
            "5625/5625 [==============================] - 0s 15us/step - loss: 0.4035 - acc: 0.8053\n",
            "Epoch 48/150\n",
            "5625/5625 [==============================] - 0s 16us/step - loss: 0.4056 - acc: 0.8094\n",
            "Epoch 49/150\n",
            "5625/5625 [==============================] - 0s 15us/step - loss: 0.4063 - acc: 0.8092\n",
            "Epoch 50/150\n",
            "5625/5625 [==============================] - 0s 16us/step - loss: 0.4035 - acc: 0.8087\n",
            "Epoch 51/150\n",
            "5625/5625 [==============================] - 0s 16us/step - loss: 0.4086 - acc: 0.8043\n",
            "Epoch 52/150\n",
            "5625/5625 [==============================] - 0s 16us/step - loss: 0.4057 - acc: 0.8117\n",
            "Epoch 53/150\n",
            "5625/5625 [==============================] - 0s 17us/step - loss: 0.4049 - acc: 0.8107\n",
            "Epoch 54/150\n",
            "5625/5625 [==============================] - 0s 17us/step - loss: 0.4054 - acc: 0.8068\n",
            "Epoch 55/150\n",
            "5625/5625 [==============================] - 0s 15us/step - loss: 0.4031 - acc: 0.8087\n",
            "Epoch 56/150\n",
            "5625/5625 [==============================] - 0s 17us/step - loss: 0.4023 - acc: 0.8139\n",
            "Epoch 57/150\n",
            "5625/5625 [==============================] - 0s 15us/step - loss: 0.4032 - acc: 0.8062\n",
            "Epoch 58/150\n",
            "5625/5625 [==============================] - 0s 15us/step - loss: 0.4030 - acc: 0.8103\n",
            "Epoch 59/150\n",
            "5625/5625 [==============================] - 0s 16us/step - loss: 0.4035 - acc: 0.8087\n",
            "Epoch 60/150\n",
            "5625/5625 [==============================] - 0s 16us/step - loss: 0.4069 - acc: 0.8044\n",
            "Epoch 61/150\n",
            "5625/5625 [==============================] - 0s 16us/step - loss: 0.4007 - acc: 0.8108\n",
            "Epoch 62/150\n",
            "5625/5625 [==============================] - 0s 16us/step - loss: 0.4023 - acc: 0.8098\n",
            "Epoch 63/150\n",
            "5625/5625 [==============================] - 0s 16us/step - loss: 0.4063 - acc: 0.8085\n",
            "Epoch 64/150\n",
            "5625/5625 [==============================] - 0s 17us/step - loss: 0.4024 - acc: 0.8107\n",
            "Epoch 65/150\n",
            "5625/5625 [==============================] - 0s 16us/step - loss: 0.3992 - acc: 0.8114\n",
            "Epoch 66/150\n",
            "5625/5625 [==============================] - 0s 16us/step - loss: 0.4047 - acc: 0.8108\n",
            "Epoch 67/150\n",
            "5625/5625 [==============================] - 0s 16us/step - loss: 0.4047 - acc: 0.8096\n",
            "Epoch 68/150\n",
            "5625/5625 [==============================] - 0s 17us/step - loss: 0.4013 - acc: 0.8080\n",
            "Epoch 69/150\n",
            "5625/5625 [==============================] - 0s 16us/step - loss: 0.4034 - acc: 0.8096\n",
            "Epoch 70/150\n",
            "5625/5625 [==============================] - 0s 16us/step - loss: 0.4036 - acc: 0.8114\n",
            "Epoch 71/150\n",
            "5625/5625 [==============================] - 0s 16us/step - loss: 0.4024 - acc: 0.8114\n",
            "Epoch 72/150\n",
            "5625/5625 [==============================] - 0s 17us/step - loss: 0.4025 - acc: 0.8078\n",
            "Epoch 73/150\n",
            "5625/5625 [==============================] - 0s 19us/step - loss: 0.4004 - acc: 0.8108\n",
            "Epoch 74/150\n",
            "5625/5625 [==============================] - 0s 17us/step - loss: 0.4020 - acc: 0.8108\n",
            "Epoch 75/150\n",
            "5625/5625 [==============================] - 0s 16us/step - loss: 0.4019 - acc: 0.8082\n",
            "Epoch 76/150\n",
            "5625/5625 [==============================] - 0s 16us/step - loss: 0.4035 - acc: 0.8069\n",
            "Epoch 77/150\n",
            "5625/5625 [==============================] - 0s 16us/step - loss: 0.3984 - acc: 0.8132\n",
            "Epoch 78/150\n",
            "5625/5625 [==============================] - 0s 16us/step - loss: 0.4023 - acc: 0.8052\n",
            "Epoch 79/150\n",
            "5625/5625 [==============================] - 0s 16us/step - loss: 0.4048 - acc: 0.8116\n",
            "Epoch 80/150\n",
            "5625/5625 [==============================] - 0s 16us/step - loss: 0.3980 - acc: 0.8133\n",
            "Epoch 81/150\n",
            "5625/5625 [==============================] - 0s 18us/step - loss: 0.3991 - acc: 0.8108\n",
            "Epoch 82/150\n",
            "5625/5625 [==============================] - 0s 18us/step - loss: 0.4035 - acc: 0.8094\n",
            "Epoch 83/150\n",
            "5625/5625 [==============================] - 0s 16us/step - loss: 0.4029 - acc: 0.8108\n",
            "Epoch 84/150\n",
            "5625/5625 [==============================] - 0s 15us/step - loss: 0.4015 - acc: 0.8100\n",
            "Epoch 85/150\n",
            "5625/5625 [==============================] - 0s 16us/step - loss: 0.4003 - acc: 0.8132\n",
            "Epoch 86/150\n",
            "5625/5625 [==============================] - 0s 16us/step - loss: 0.3984 - acc: 0.8144\n",
            "Epoch 87/150\n",
            "5625/5625 [==============================] - 0s 15us/step - loss: 0.4005 - acc: 0.8092\n",
            "Epoch 88/150\n",
            "5625/5625 [==============================] - 0s 16us/step - loss: 0.3999 - acc: 0.8094\n",
            "Epoch 89/150\n",
            "5625/5625 [==============================] - 0s 15us/step - loss: 0.3977 - acc: 0.8133\n",
            "Epoch 90/150\n",
            "5625/5625 [==============================] - 0s 15us/step - loss: 0.4048 - acc: 0.8094\n",
            "Epoch 91/150\n",
            "5625/5625 [==============================] - 0s 15us/step - loss: 0.4034 - acc: 0.8098\n",
            "Epoch 92/150\n",
            "5625/5625 [==============================] - 0s 16us/step - loss: 0.4007 - acc: 0.8117\n",
            "Epoch 93/150\n",
            "5625/5625 [==============================] - 0s 16us/step - loss: 0.4032 - acc: 0.8046\n",
            "Epoch 94/150\n",
            "5625/5625 [==============================] - 0s 16us/step - loss: 0.3990 - acc: 0.8096\n",
            "Epoch 95/150\n",
            "5625/5625 [==============================] - 0s 15us/step - loss: 0.3987 - acc: 0.8130\n",
            "Epoch 96/150\n",
            "5625/5625 [==============================] - 0s 16us/step - loss: 0.3994 - acc: 0.8148\n",
            "Epoch 97/150\n",
            "5625/5625 [==============================] - 0s 16us/step - loss: 0.4040 - acc: 0.8069\n",
            "Epoch 98/150\n",
            "5625/5625 [==============================] - 0s 15us/step - loss: 0.3989 - acc: 0.8158\n",
            "Epoch 99/150\n",
            "5625/5625 [==============================] - 0s 16us/step - loss: 0.4044 - acc: 0.8105\n",
            "Epoch 100/150\n",
            "5625/5625 [==============================] - 0s 16us/step - loss: 0.3988 - acc: 0.8140\n",
            "Epoch 101/150\n",
            "5625/5625 [==============================] - 0s 16us/step - loss: 0.3986 - acc: 0.8133\n",
            "Epoch 102/150\n",
            "5625/5625 [==============================] - 0s 16us/step - loss: 0.4001 - acc: 0.8098\n",
            "Epoch 103/150\n",
            "5625/5625 [==============================] - 0s 16us/step - loss: 0.3966 - acc: 0.8132\n",
            "Epoch 104/150\n",
            "5625/5625 [==============================] - 0s 16us/step - loss: 0.3994 - acc: 0.8124\n",
            "Epoch 105/150\n",
            "5625/5625 [==============================] - 0s 17us/step - loss: 0.3995 - acc: 0.8110\n",
            "Epoch 106/150\n",
            "5625/5625 [==============================] - 0s 16us/step - loss: 0.4022 - acc: 0.8105\n",
            "Epoch 107/150\n",
            "5625/5625 [==============================] - 0s 16us/step - loss: 0.4005 - acc: 0.8135\n",
            "Epoch 108/150\n",
            "5625/5625 [==============================] - 0s 16us/step - loss: 0.3990 - acc: 0.8123\n",
            "Epoch 109/150\n",
            "5625/5625 [==============================] - 0s 17us/step - loss: 0.3985 - acc: 0.8110\n",
            "Epoch 110/150\n",
            "5625/5625 [==============================] - 0s 16us/step - loss: 0.4002 - acc: 0.8101\n",
            "Epoch 111/150\n",
            "5625/5625 [==============================] - 0s 16us/step - loss: 0.3998 - acc: 0.8084\n",
            "Epoch 112/150\n",
            "5625/5625 [==============================] - 0s 15us/step - loss: 0.3999 - acc: 0.8135\n",
            "Epoch 113/150\n",
            "5625/5625 [==============================] - 0s 15us/step - loss: 0.3995 - acc: 0.8107\n",
            "Epoch 114/150\n",
            "5625/5625 [==============================] - 0s 16us/step - loss: 0.3984 - acc: 0.8135\n",
            "Epoch 115/150\n",
            "5625/5625 [==============================] - 0s 16us/step - loss: 0.4023 - acc: 0.8091\n",
            "Epoch 116/150\n",
            "5625/5625 [==============================] - 0s 18us/step - loss: 0.4013 - acc: 0.8084\n",
            "Epoch 117/150\n",
            "5625/5625 [==============================] - 0s 16us/step - loss: 0.4043 - acc: 0.8082\n",
            "Epoch 118/150\n",
            "5625/5625 [==============================] - 0s 16us/step - loss: 0.4004 - acc: 0.8092\n",
            "Epoch 119/150\n",
            "5625/5625 [==============================] - 0s 16us/step - loss: 0.4016 - acc: 0.8130\n",
            "Epoch 120/150\n",
            "5625/5625 [==============================] - 0s 15us/step - loss: 0.3979 - acc: 0.8132\n",
            "Epoch 121/150\n",
            "5625/5625 [==============================] - 0s 15us/step - loss: 0.3987 - acc: 0.8123\n",
            "Epoch 122/150\n",
            "5625/5625 [==============================] - 0s 16us/step - loss: 0.3978 - acc: 0.8140\n",
            "Epoch 123/150\n",
            "5625/5625 [==============================] - 0s 15us/step - loss: 0.4002 - acc: 0.8098\n",
            "Epoch 124/150\n",
            "5625/5625 [==============================] - 0s 15us/step - loss: 0.3983 - acc: 0.8112\n",
            "Epoch 125/150\n",
            "5625/5625 [==============================] - 0s 15us/step - loss: 0.3972 - acc: 0.8144\n",
            "Epoch 126/150\n",
            "5625/5625 [==============================] - 0s 16us/step - loss: 0.3983 - acc: 0.8108\n",
            "Epoch 127/150\n",
            "5625/5625 [==============================] - 0s 15us/step - loss: 0.4003 - acc: 0.8098\n",
            "Epoch 128/150\n",
            "5625/5625 [==============================] - 0s 17us/step - loss: 0.3996 - acc: 0.8121\n",
            "Epoch 129/150\n",
            "5625/5625 [==============================] - 0s 16us/step - loss: 0.4011 - acc: 0.8144\n",
            "Epoch 130/150\n",
            "5625/5625 [==============================] - 0s 16us/step - loss: 0.4034 - acc: 0.8123\n",
            "Epoch 131/150\n",
            "5625/5625 [==============================] - 0s 15us/step - loss: 0.3993 - acc: 0.8123\n",
            "Epoch 132/150\n",
            "5625/5625 [==============================] - 0s 16us/step - loss: 0.3999 - acc: 0.8123\n",
            "Epoch 133/150\n",
            "5625/5625 [==============================] - 0s 16us/step - loss: 0.4044 - acc: 0.8107\n",
            "Epoch 134/150\n",
            "5625/5625 [==============================] - 0s 16us/step - loss: 0.4020 - acc: 0.8084\n",
            "Epoch 135/150\n",
            "5625/5625 [==============================] - 0s 16us/step - loss: 0.4010 - acc: 0.8121\n",
            "Epoch 136/150\n",
            "5625/5625 [==============================] - 0s 16us/step - loss: 0.3992 - acc: 0.8094\n",
            "Epoch 137/150\n",
            "5625/5625 [==============================] - 0s 16us/step - loss: 0.3971 - acc: 0.8146\n",
            "Epoch 138/150\n",
            "5625/5625 [==============================] - 0s 16us/step - loss: 0.3956 - acc: 0.8153\n",
            "Epoch 139/150\n",
            "5625/5625 [==============================] - 0s 16us/step - loss: 0.3969 - acc: 0.8140\n",
            "Epoch 140/150\n",
            "5625/5625 [==============================] - 0s 17us/step - loss: 0.3967 - acc: 0.8116\n",
            "Epoch 141/150\n",
            "5625/5625 [==============================] - 0s 16us/step - loss: 0.4008 - acc: 0.8091\n",
            "Epoch 142/150\n",
            "5625/5625 [==============================] - 0s 16us/step - loss: 0.3977 - acc: 0.8098\n",
            "Epoch 143/150\n",
            "5625/5625 [==============================] - 0s 16us/step - loss: 0.4026 - acc: 0.8092\n",
            "Epoch 144/150\n",
            "5625/5625 [==============================] - 0s 16us/step - loss: 0.4016 - acc: 0.8085\n",
            "Epoch 145/150\n",
            "5625/5625 [==============================] - 0s 19us/step - loss: 0.4006 - acc: 0.8158\n",
            "Epoch 146/150\n",
            "5625/5625 [==============================] - 0s 16us/step - loss: 0.3972 - acc: 0.8142\n",
            "Epoch 147/150\n",
            "5625/5625 [==============================] - 0s 17us/step - loss: 0.3986 - acc: 0.8137\n",
            "Epoch 148/150\n",
            "5625/5625 [==============================] - 0s 17us/step - loss: 0.4013 - acc: 0.8132\n",
            "Epoch 149/150\n",
            "5625/5625 [==============================] - 0s 16us/step - loss: 0.3984 - acc: 0.8146\n",
            "Epoch 150/150\n",
            "5625/5625 [==============================] - 0s 16us/step - loss: 0.4001 - acc: 0.8142\n"
          ],
          "name": "stdout"
        },
        {
          "output_type": "execute_result",
          "data": {
            "text/plain": [
              "<keras.callbacks.History at 0x7f327b24eb70>"
            ]
          },
          "metadata": {
            "tags": []
          },
          "execution_count": 30
        }
      ]
    },
    {
      "cell_type": "code",
      "metadata": {
        "id": "R3pv3L-dZ6f9",
        "colab_type": "code",
        "colab": {}
      },
      "source": [
        ""
      ],
      "execution_count": 0,
      "outputs": []
    },
    {
      "cell_type": "markdown",
      "metadata": {
        "id": "hPlP-Bg4x9KJ",
        "colab_type": "text"
      },
      "source": [
        "#### Prediciting churn"
      ]
    },
    {
      "cell_type": "code",
      "metadata": {
        "id": "e48q7uTqx9KK",
        "colab_type": "code",
        "colab": {}
      },
      "source": [
        "y_pred = classifier.predict_proba(pd.DataFrame(features[0:1]))\n",
        "#y_pred = (y_pred > 0.5)"
      ],
      "execution_count": 0,
      "outputs": []
    },
    {
      "cell_type": "code",
      "metadata": {
        "id": "EYUvffx24Dgc",
        "colab_type": "code",
        "outputId": "24497aef-be92-4689-acc0-ecd07e34f0e2",
        "colab": {
          "base_uri": "https://localhost:8080/",
          "height": 33
        }
      },
      "source": [
        "#pd.DataFrame(features[0:1]).to_csv('/content/drive/My Drive/content/drive.rec1.csv')\n",
        "print(y_pred)"
      ],
      "execution_count": 0,
      "outputs": [
        {
          "output_type": "stream",
          "text": [
            "[[0.59641534]]\n"
          ],
          "name": "stdout"
        }
      ]
    },
    {
      "cell_type": "code",
      "metadata": {
        "id": "wYi1Q2zN53GG",
        "colab_type": "code",
        "colab": {}
      },
      "source": [
        "from keras.models import load_model\n",
        "\n",
        "classifier.save('my_model.h5')  # creates a HDF5 file 'my_model.h5'\n",
        "\n",
        "# returns a compiled model\n",
        "# identical to the previous one\n",
        "#model = load_model('my_model.h5')"
      ],
      "execution_count": 0,
      "outputs": []
    },
    {
      "cell_type": "markdown",
      "metadata": {
        "id": "iKhyjZI1x9KN",
        "colab_type": "text"
      },
      "source": [
        "#### Classification Report"
      ]
    },
    {
      "cell_type": "code",
      "metadata": {
        "id": "PMihy16Zx9KO",
        "colab_type": "code",
        "outputId": "237bbf10-b6ab-46d2-f743-98a69f463fcf",
        "colab": {
          "base_uri": "https://localhost:8080/",
          "height": 167
        }
      },
      "source": [
        "print(classification_report(y_test,y_pred))"
      ],
      "execution_count": 0,
      "outputs": [
        {
          "output_type": "stream",
          "text": [
            "              precision    recall  f1-score   support\n",
            "\n",
            "           0       0.84      0.90      0.87      1038\n",
            "           1       0.65      0.50      0.56       369\n",
            "\n",
            "    accuracy                           0.80      1407\n",
            "   macro avg       0.74      0.70      0.72      1407\n",
            "weighted avg       0.79      0.80      0.79      1407\n",
            "\n"
          ],
          "name": "stdout"
        }
      ]
    },
    {
      "cell_type": "markdown",
      "metadata": {
        "id": "qX6EJlg7x9KT",
        "colab_type": "text"
      },
      "source": [
        "#### Genreating a confusion matrix to evaluate the results"
      ]
    },
    {
      "cell_type": "code",
      "metadata": {
        "id": "enk8uJ-jx9KU",
        "colab_type": "code",
        "outputId": "a2aad649-1df7-451f-fbb7-8b4b876b00e1",
        "colab": {
          "base_uri": "https://localhost:8080/",
          "height": 296
        }
      },
      "source": [
        "cm = confusion_matrix(y_test, y_pred)\n",
        "sns.heatmap(cm.T,square=True, annot=True, fmt='d', cbar=False,xticklabels=['No','Yes'],yticklabels=['No','Yes'] )\n",
        "plt.xlabel('true label')\n",
        "plt.ylabel('predicted label')"
      ],
      "execution_count": 0,
      "outputs": [
        {
          "output_type": "execute_result",
          "data": {
            "text/plain": [
              "Text(91.68, 0.5, 'predicted label')"
            ]
          },
          "metadata": {
            "tags": []
          },
          "execution_count": 41
        },
        {
          "output_type": "display_data",
          "data": {
            "image/png": "[encoded data removed]",
            "text/plain": [
              "<Figure size 432x288 with 1 Axes>"
            ]
          },
          "metadata": {
            "tags": []
          }
        }
      ]
    },
    {
      "cell_type": "code",
      "metadata": {
        "id": "4qtWoWw0x9KX",
        "colab_type": "code",
        "colab": {}
      },
      "source": [
        ""
      ],
      "execution_count": 0,
      "outputs": []
    }
  ]
}